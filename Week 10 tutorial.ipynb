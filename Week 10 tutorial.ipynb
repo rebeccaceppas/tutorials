{
 "cells": [
  {
   "cell_type": "markdown",
   "metadata": {},
   "source": [
    "### Using least square fitting\n",
    "\n",
    "- trying to see if fit we are using is good.\n",
    "take data point and calculate vertical distance from fit line.\n",
    "\n",
    "- model with lowest value is best fit for data --> minimizing vertical distance bt data point and fit line\n",
    "\n",
    "numpy.polyfit --> better, probably use this, she said this was easier to use and only need linear fit for assignment, so this is good\n",
    "\n",
    "scipy.optimize.curve_fit --> good for non polynomial fits\n",
    "\n",
    "chi 2 divided by degrees of freedom (NUMBER OF DATA PARAMENTERS OR NUMBER OF DATA POINTS - NUMBER OF PARAMETERS) < 1 --> pretty good fit"
   ]
  },
  {
   "cell_type": "markdown",
   "metadata": {},
   "source": [
    "Tutorial uses same equations from tutorial given by Ariel.\n",
    "\n",
    "add artificial scatter\n",
    "- by randomly choosing an age bt 0 and 10gyr\n",
    "getting around 10 data points\n",
    "\n",
    "randomized is a non linear function.\n",
    "but numpy helps us with this.\n",
    "first pass is doing a linear fit using SE equation (3.42) in textbook\n",
    "\n",
    "relates Z to gas fraction --> there is linear relation"
   ]
  },
  {
   "cell_type": "markdown",
   "metadata": {},
   "source": [
    "fit=np.polyfit(xaxis,yaxis,1) --> means have a polynomial of order 1 --> linear fit, Linear fit gives you the yield (y: metals returned to ISM to "
   ]
  },
  {
   "cell_type": "markdown",
   "metadata": {},
   "source": [
    "def poly1(x,*p):\n",
    "    return p[0]*x+p[1]\n",
    "    \n",
    "    \n",
    "    p[0] is slope and p[1] is intercept"
   ]
  },
  {
   "cell_type": "code",
   "execution_count": null,
   "metadata": {},
   "outputs": [],
   "source": []
  }
 ],
 "metadata": {
  "kernelspec": {
   "display_name": "Python 3",
   "language": "python",
   "name": "python3"
  },
  "language_info": {
   "codemirror_mode": {
    "name": "ipython",
    "version": 3
   },
   "file_extension": ".py",
   "mimetype": "text/x-python",
   "name": "python",
   "nbconvert_exporter": "python",
   "pygments_lexer": "ipython3",
   "version": "3.7.4"
  }
 },
 "nbformat": 4,
 "nbformat_minor": 4
}
